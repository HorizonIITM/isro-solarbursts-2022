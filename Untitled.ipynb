{
 "cells": [
  {
   "cell_type": "code",
   "execution_count": 1,
   "id": "d69d5db7-27f0-4f36-b35a-1da5c9c71418",
   "metadata": {},
   "outputs": [],
   "source": [
    "%matplotlib widget\n",
    "import matplotlib.pyplot as plt\n",
    "import matplotlib.colors as colors\n",
    "import matplotlib as mpl\n",
    "import numpy as np\n",
    "import pandas as pd\n",
    "from scipy.signal import savgol_filter\n",
    "from scipy.optimize import curve_fit\n",
    "from astropy.io import fits\n",
    "mpl.rcParams['text.usetex'] = True\n",
    "mpl.rcParams['font.family'] = 'serif'\n",
    "mpl.rcParams['font.size'] = '12'"
   ]
  },
  {
   "cell_type": "code",
   "execution_count": 10,
   "id": "7b579418-55eb-409a-8e65-fee2aa85b071",
   "metadata": {},
   "outputs": [],
   "source": [
    "ff1 = fits.open(r'../data/20210917/xsm/data/2021/09/17/raw/ch2_xsm_20210917_v1_level1.fits')\n",
    "ff2 = fits.open(r'../data/20210919/xsm/data/2021/09/19/raw/ch2_xsm_20210919_v1_level1.fits')"
   ]
  },
  {
   "cell_type": "code",
   "execution_count": 18,
   "id": "26df1b3f-e038-4ff5-a444-06fe29447523",
   "metadata": {},
   "outputs": [],
   "source": [
    "d1 = ff1[1].data\n",
    "d2 = ff2[1].data"
   ]
  },
  {
   "cell_type": "code",
   "execution_count": 3,
   "id": "9af96f0e-0a93-4a40-812e-37ddae09df03",
   "metadata": {},
   "outputs": [],
   "source": [
    "data = ff[1].data"
   ]
  },
  {
   "cell_type": "code",
   "execution_count": 4,
   "id": "a50a8dd1-967c-4b1f-838f-39c28bf7c34d",
   "metadata": {},
   "outputs": [
    {
     "data": {
      "text/plain": [
       "XTENSION= 'BINTABLE'           / binary table extension                         \n",
       "BITPIX  =                    8 / 8-bit bytes                                    \n",
       "NAXIS   =                    2 / 2-dimensional binary table                     \n",
       "NAXIS1  =                 2108 / width of table in bytes                        \n",
       "NAXIS2  =                86396 / number of rows in table                        \n",
       "PCOUNT  =                    0 / size of special data area                      \n",
       "GCOUNT  =                    1 / one data group (required keyword)              \n",
       "TFIELDS =                    7 / number of fields in each row                   \n",
       "TTYPE1  = 'Time    '           / MET Since 2017-01-01 00:00:00 UTC              \n",
       "TFORM1  = 'D       '           / data format of field: 8-byte DOUBLE            \n",
       "TTYPE2  = 'UTCString'          / UTC String                                     \n",
       "TFORM2  = '30A       '         / data format of field: String                   \n",
       "TTYPE3  = 'FrameNumber'        / label for field                                \n",
       "TFORM3  = 'J       '           / data format of field: 4-byte INTEGER           \n",
       "TTYPE4  = 'BDHTime '           / label for field                                \n",
       "TFORM4  = 'D       '           / data format of field: Double                   \n",
       "TTYPE5  = 'XSMTime '           / label for field                                \n",
       "TFORM5  = 'D       '           / data format of field: Double                   \n",
       "TTYPE6  = 'DataArray'          / label for field                                \n",
       "TFORM6  = '2048B       '       / data format of field: BYTE ARRAY               \n",
       "TTYPE7  = 'DecodingStatusFlag' / label for field                                \n",
       "TFORM7  = 'I       '           / data format of field: 2-byte INTEGER           \n",
       "TUNIT1  = 's       '           / physical unit of field 1                       \n",
       "EXTNAME = 'DATA    '           / name of this binary table extension            \n",
       "DATE-OBS= '2021-09-17 00:00:00.797720000' / Date observation start              \n",
       "DATE-END= '2021-09-17 23:59:59.538894000' / Date observation end                \n",
       "TSTART  =      148608000.79772 / Start Time                                     \n",
       "TSTOP   =     148694399.538894 / Stop Time                                      \n",
       "TIMESYS = 'UTC     '           / Time system                                    \n",
       "MJDREF  =               57754. / MJD reference                                  \n",
       "MISSION = 'CHANDRAYAAN-2'      / Name of mission/satellite                      \n",
       "TELESCOP= 'CH-2_ORBITER'       / Name of mission/satellite                      \n",
       "INSTRUME= 'CH2_XSM '           / Name of Instrument/detector                    \n",
       "ORIGIN  = 'PRLPOC  '           / Source of FITS file                            \n",
       "CREATOR = 'xsml1gen '          / Creator of file                                \n",
       "XSMDASVE= '1.20    '           / Version of XSMDAS that created this file       \n",
       "EXTVER  =                    1 / auto assigned by template parser               \n",
       "FILENAME= 'ch2_xsm_20210917_v1_level1.fits'                                     \n",
       "DATE    = '2021-09-28T21:05:01'                                                 \n",
       "TELAPSE =     86398.7411741018                                                  \n",
       "HISTORY ************** XSML1GEN **************                                  \n",
       "HISTORY daywiseproc = yes                                                       \n",
       "HISTORY numfiles = 6                                                            \n",
       "HISTORY l0file = XSM01HW1CHO0919503015021260043607920_00.pld                    \n",
       "HISTORY l0file = XSM01D18CHO0919803015021260112246338_00.pld                    \n",
       "HISTORY l0file = XSM01D18CHO0920003015021260142337716_00.pld                    \n",
       "HISTORY l0file = XSM01D18CHO0920103015021260165116872_00.pld                    \n",
       "HISTORY l0file = XSM01D18CHO0920303015021260201751210_00.pld                    \n",
       "HISTORY l0file = XSM01HW1CHO0920703015021261041217652_00.pld                    \n",
       "HISTORY UTC Date 2021-9-17                                                      \n",
       "HISTORY l1file = ch2_xsm_20210917_v1_level1.fits                                \n",
       "HISTORY dqrfile = ch2_xsm_20210917_v1_level1.dqr                                \n",
       "HISTORY goodfracthresh = 80.000000                                              \n",
       "HISTORY gcudata = no                                                            \n",
       "HISTORY clobber = yes                                                           \n",
       "HISTORY **************************************                                  "
      ]
     },
     "execution_count": 4,
     "metadata": {},
     "output_type": "execute_result"
    }
   ],
   "source": [
    "ff[1].header"
   ]
  },
  {
   "cell_type": "code",
   "execution_count": 5,
   "id": "02045001-59f6-420b-9d06-f415d51718b5",
   "metadata": {},
   "outputs": [],
   "source": [
    "test = [f[4] for f in data]"
   ]
  },
  {
   "cell_type": "code",
   "execution_count": 6,
   "id": "c6f13829-5f1b-45f0-9a0d-1c79affa1d03",
   "metadata": {},
   "outputs": [
    {
     "name": "stdout",
     "output_type": "stream",
     "text": [
      "(148608000.79771996, '2021-09-17 00:00:00.797720000', 15555, 68065425.908875, 3086768.077809, array([249, 164,  42, ...,   0,   0,   1], dtype=uint8), 0)\n",
      "(148608001.79788995, '2021-09-17 00:00:01.797890000', 15556, 68065426.908875, 3086769.077809, array([249, 164,  42, ...,   0,   0,   1], dtype=uint8), 0)\n",
      "(148608002.79782, '2021-09-17 00:00:02.797820000', 15557, 68065427.908875, 3086770.077809, array([249, 164,  42, ...,   0,   0,   0], dtype=uint8), 0)\n",
      "(148608003.79774004, '2021-09-17 00:00:03.797740000', 15558, 68065428.908875, 3086771.077809, array([249, 164,  42, ...,   0,   0,   0], dtype=uint8), 0)\n",
      "(148608004.79792, '2021-09-17 00:00:04.797920000', 15559, 68065429.908875, 3086772.077809, array([249, 164,  42, ...,   0,   0,   0], dtype=uint8), 0)\n",
      "(148608005.79784003, '2021-09-17 00:00:05.797840000', 15560, 68065430.908875, 3086773.077809, array([249, 164,  42, ...,   0,   0,   4], dtype=uint8), 0)\n",
      "(148608006.79776996, '2021-09-17 00:00:06.797770000', 15561, 68065431.908875, 3086774.077809, array([249, 164,  42, ...,   0,   0,   0], dtype=uint8), 0)\n",
      "(148608007.79769, '2021-09-17 00:00:07.797690000', 15562, 68065432.908875, 3086775.077809, array([249, 164,  42, ...,   0,   0,   0], dtype=uint8), 0)\n",
      "(148608008.79785997, '2021-09-17 00:00:08.797860000', 15563, 68065433.908875, 3086776.077809, array([249, 164,  42, ...,   0,   0,   3], dtype=uint8), 0)\n",
      "(148608009.79779005, '2021-09-17 00:00:09.797790000', 15564, 68065434.908875, 3086777.077809, array([249, 164,  42, ...,   0,   0,   1], dtype=uint8), 0)\n"
     ]
    }
   ],
   "source": [
    "for _ in range(10):\n",
    "    print(data[_])"
   ]
  },
  {
   "cell_type": "code",
   "execution_count": 16,
   "id": "7e4b2254-25a7-4382-ac03-caff8074bdb2",
   "metadata": {},
   "outputs": [
    {
     "data": {
      "text/plain": [
       "2048"
      ]
     },
     "execution_count": 16,
     "metadata": {},
     "output_type": "execute_result"
    }
   ],
   "source": [
    "len(data[0][5])"
   ]
  },
  {
   "cell_type": "code",
   "execution_count": 27,
   "id": "26c17820-96be-40f9-9049-07b1beda7006",
   "metadata": {},
   "outputs": [
    {
     "data": {
      "application/vnd.jupyter.widget-view+json": {
       "model_id": "57aa0fd7007048669de71bcc465ba7ba",
       "version_major": 2,
       "version_minor": 0
      },
      "image/png": "[encoded data removed]",
      "text/html": [
       "\n",
       "            <div style=\"display: inline-block;\">\n",
       "                <div class=\"jupyter-widgets widget-label\" style=\"text-align: center;\">\n",
       "                    Figure\n",
       "                </div>\n",
       "                <img src='data:image/png;base64,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' width=640.0/>\n",
       "            </div>\n",
       "        "
      ],
      "text/plain": [
       "Canvas(toolbar=Toolbar(toolitems=[('Home', 'Reset original view', 'home', 'home'), ('Back', 'Back to previous …"
      ]
     },
     "metadata": {},
     "output_type": "display_data"
    }
   ],
   "source": [
    "%matplotlib widget\n",
    "plt.plot(d1[1110][5], 'k.-', lw=0.5, ms=0.1)\n",
    "#plt.xlim(200, 400)\n",
    "plt.show()"
   ]
  },
  {
   "cell_type": "code",
   "execution_count": null,
   "id": "06d37ee8-1d8d-44e5-ab76-523d85637f7a",
   "metadata": {},
   "outputs": [],
   "source": []
  }
 ],
 "metadata": {
  "kernelspec": {
   "display_name": "Python 3 (ipykernel)",
   "language": "python",
   "name": "python3"
  },
  "language_info": {
   "codemirror_mode": {
    "name": "ipython",
    "version": 3
   },
   "file_extension": ".py",
   "mimetype": "text/x-python",
   "name": "python",
   "nbconvert_exporter": "python",
   "pygments_lexer": "ipython3",
   "version": "3.10.2"
  }
 },
 "nbformat": 4,
 "nbformat_minor": 5
}
